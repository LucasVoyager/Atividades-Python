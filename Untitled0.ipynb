{
  "nbformat": 4,
  "nbformat_minor": 0,
  "metadata": {
    "colab": {
      "name": "Untitled0.ipynb",
      "provenance": [],
      "authorship_tag": "ABX9TyNEnB4SHHB8QY3SaDvZQcCc",
      "include_colab_link": true
    },
    "kernelspec": {
      "name": "python3",
      "display_name": "Python 3"
    },
    "language_info": {
      "name": "python"
    }
  },
  "cells": [
    {
      "cell_type": "markdown",
      "metadata": {
        "id": "view-in-github",
        "colab_type": "text"
      },
      "source": [
        "<a href=\"https://colab.research.google.com/github/LucasVoyager/Atividades-Python/blob/main/Untitled0.ipynb\" target=\"_parent\"><img src=\"https://colab.research.google.com/assets/colab-badge.svg\" alt=\"Open In Colab\"/></a>"
      ]
    },
    {
      "cell_type": "code",
      "execution_count": 12,
      "metadata": {
        "colab": {
          "base_uri": "https://localhost:8080/"
        },
        "id": "bn2Eg5_s7LBo",
        "outputId": "753a1b9a-2e06-4896-fe3d-bfb373ea3447"
      },
      "outputs": [
        {
          "output_type": "stream",
          "name": "stdout",
          "text": [
            "State Number of drivers involved in fatal collisions per billion miles\n",
            "Alabama 18.8\n",
            "Alaska 18.1\n",
            "Arizona 18.6\n",
            "Arkansas 22.4\n",
            "California 12\n",
            "Colorado 13.6\n",
            "Connecticut 10.8\n",
            "Delaware 16.2\n",
            "District of Columbia 5.9\n",
            "Florida 17.9\n",
            "Georgia 15.6\n",
            "Hawaii 17.5\n",
            "Idaho 15.3\n",
            "Illinois 12.8\n",
            "Indiana 14.5\n",
            "Iowa 15.7\n",
            "Kansas 17.8\n",
            "Kentucky 21.4\n",
            "Louisiana 20.5\n",
            "Maine 15.1\n",
            "Maryland 12.5\n",
            "Massachusetts 8.2\n",
            "Michigan 14.1\n",
            "Minnesota 9.6\n",
            "Mississippi 17.6\n",
            "Missouri 16.1\n",
            "Montana 21.4\n",
            "Nebraska 14.9\n",
            "Nevada 14.7\n",
            "New Hampshire 11.6\n",
            "New Jersey 11.2\n",
            "New Mexico 18.4\n",
            "New York 12.3\n",
            "North Carolina 16.8\n",
            "North Dakota 23.9\n",
            "Ohio 14.1\n",
            "Oklahoma 19.9\n",
            "Oregon 12.8\n",
            "Pennsylvania 18.2\n",
            "Rhode Island 11.1\n",
            "South Carolina 23.9\n",
            "South Dakota 19.4\n",
            "Tennessee 19.5\n",
            "Texas 19.4\n",
            "Utah 11.3\n",
            "Vermont 13.6\n",
            "Virginia 12.7\n",
            "Washington 10.6\n",
            "West Virginia 23.8\n",
            "Wisconsin 13.8\n",
            "Wyoming 17.4\n"
          ]
        }
      ],
      "source": [
        "import csv\n",
        "\n",
        "# 1. abrir o arquivo\n",
        "with open('bad-drivers.csv', encoding='utf-8') as arquivo_referencia:\n",
        "\n",
        "  # 2. ler a tabela\n",
        "  tabela = csv.reader(arquivo_referencia, delimiter=',')\n",
        "\n",
        "  # 3. navegar pela tabela\n",
        "  for l in tabela:\n",
        "    Estados = l[0]\n",
        "    colisoes = l[1]\n",
        "\n",
        "    print(Estados, colisoes) \n"
      ]
    }
  ]
}